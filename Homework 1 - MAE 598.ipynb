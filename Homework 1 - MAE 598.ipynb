{
 "cells": [
  {
   "cell_type": "markdown",
   "id": "16ca5fde",
   "metadata": {},
   "source": [
    "#### MAE 598 - Homework #1 - Sebastian Garcia"
   ]
  },
  {
   "cell_type": "markdown",
   "id": "a4302b67",
   "metadata": {},
   "source": [
    "\n",
    "Solve the following problem using Python SciPy.optimize. Please attach your code and results. Specify your initial guesses of the solution. If you change your initial guess, do you find different solutions? (100 points)\n",
    "\n",
    "$$\n",
    "\\begin{aligned}\n",
    "&amp;\\text{minimize:} &amp;&amp; (x_1-x_2)^2 + (x_2+x_3-2)^2 + (x_4-1)^2+(x_5-1)^2 \\\\\\\\\n",
    "&amp;\\text{subject to:} &amp;&amp; x_1 + 3x_2 = 0 \\\\\\\\\n",
    "&amp;&amp;&amp; x_3 + x_4 - 2x_5 = 0 \\\\\\\\\n",
    "&amp;&amp;&amp; x_2 - x_5 = 0 \\\\\\\\\n",
    "&amp;&amp;&amp; -10 \\leq x_i \\leq 10, \\~i=1,\\ldots,5\n",
    "\\end{aligned}$$\n",
    "Note:\n",
    "\n",
    "Please learn how to use break points to debug. I will not address your programming questions if you have not learned how to debug your code.\n",
    "\n",
    "I recommend PyCharm as the IDE. If you are new to Python, you can also start with Google Colab without installing anything.\n",
    "\n",
    "If you are on Windows, the Anaconda version of Python 3 is highly recommended.\n",
    "\n",
    "Here are the steps to push a homework submission:\n",
    "\n",
    "Clone the course repo: First click on Code to get the Git address (e.g., the HTTPS address). Then use your IDE to clone (download) the repo using this address. PyCharm tutorial on using Git.\n",
    "\n",
    "You will find the homework in the Homework folder.\n",
    "\n",
    "For analytical problems (e.g., proofs and calculations), please use Markdown to type up your answers. Markdown Math. For Latex users, you can convert tex to markdown using Pandoc.\n",
    "\n",
    "For coding problems, please submit a Jupyter Notebook file with your code and final results. You can also add a URL to your Jupyter or Colab Notebook in README.md if you use online notebooks.\n",
    "\n",
    "For each homework, please submit a single notebook file (or link) that combines the markdown solutions, the codes, and the computation results, and name the file according to the homework.\n",
    "\n",
    "IMPORTANT Please push (upload) the notebook file every time you work on the homework and add comments when you push, e.g., \"finished problem 1, still debugging problem 2\". This way I know you worked on your own.\n"
   ]
  },
  {
   "cell_type": "code",
   "execution_count": 2,
   "id": "5ded6b4f",
   "metadata": {},
   "outputs": [
    {
     "name": "stdout",
     "output_type": "stream",
     "text": [
      "     fun: 4.093023255813954\n",
      "     jac: array([-2.04651159, -0.18604648, -2.23255813, -2.23255813, -1.48837209])\n",
      " message: 'Optimization terminated successfully'\n",
      "    nfev: 20\n",
      "     nit: 3\n",
      "    njev: 3\n",
      "  status: 0\n",
      " success: True\n",
      "       x: array([-0.76744186,  0.25581395,  0.62790698, -0.11627907,  0.25581395])\n"
     ]
    }
   ],
   "source": [
    "import scipy as sp\n",
    "from scipy.optimize import minimize\n",
    "\n",
    "f = lambda x: (x[0]-x[1])**2+(x[1]+x[2]-2)**2+(x[3]-1)**2+(x[4]-1)**2\n",
    "\n",
    "cons = ({'type':'eq','fun': lambda x: x[0]+3*x[1]},\n",
    "        {'type':'eq','fun': lambda x: x[2]+x[3]-2*x[4]},\n",
    "        {'type':'eq','fun': lambda x: x[1]-x[4]})\n",
    "bnds = ((-10,10),(-10,10),(-10,10),(-10,10),(-10,10))\n",
    "res = minimize(f,(0,0,0,0,0),bounds=bnds, constraints=cons)\n",
    "\n",
    "# minimum point of the function\n",
    "print(res)"
   ]
  }
 ],
 "metadata": {
  "kernelspec": {
   "display_name": "Python 3 (ipykernel)",
   "language": "python",
   "name": "python3"
  },
  "language_info": {
   "codemirror_mode": {
    "name": "ipython",
    "version": 3
   },
   "file_extension": ".py",
   "mimetype": "text/x-python",
   "name": "python",
   "nbconvert_exporter": "python",
   "pygments_lexer": "ipython3",
   "version": "3.9.4"
  }
 },
 "nbformat": 4,
 "nbformat_minor": 5
}
